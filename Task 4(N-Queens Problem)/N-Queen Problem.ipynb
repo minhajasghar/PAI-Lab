{
 "cells": [
  {
   "cell_type": "code",
   "execution_count": 3,
   "id": "321fb9f2-13b6-4f37-8473-f6b7afd19227",
   "metadata": {},
   "outputs": [
    {
     "name": "stdout",
     "output_type": "stream",
     "text": [
      ". Q . .\n",
      ". . . Q\n",
      "Q . . .\n",
      ". . Q .\n",
      "\n",
      "\n",
      ". . Q .\n",
      "Q . . .\n",
      ". . . Q\n",
      ". Q . .\n",
      "\n",
      "\n"
     ]
    }
   ],
   "source": [
    "def is_safe(board, row, col, n):\n",
    "    for i in range(row):\n",
    "        if board[i] == col or abs(board[i] - col) == row - i:\n",
    "            return False\n",
    "    return True\n",
    "\n",
    "def solve_nqueens(board, row, n, result):\n",
    "    if row == n:\n",
    "        result.append(board[:]) \n",
    "        return\n",
    "    \n",
    "    for col in range(n):\n",
    "        if is_safe(board, row, col, n):\n",
    "            board[row] = col \n",
    "            solve_nqueens(board, row + 1, n, result) \n",
    "            board[row] = -1  \n",
    "\n",
    "def nqueens(n):\n",
    "    board = [-1] * n  \n",
    "    result = [] \n",
    "    solve_nqueens(board, 0, n, result)\n",
    "    \n",
    "    for solution in result:\n",
    "        for row in solution:\n",
    "            line = ['Q' if col == row else '.' for col in range(n)]\n",
    "            print(' '.join(line))\n",
    "        print(\"\\n\") \n",
    "\n",
    "n = 4 \n",
    "nqueens(n)"
   ]
  }
 ],
 "metadata": {
  "kernelspec": {
   "display_name": "Python 3 (ipykernel)",
   "language": "python",
   "name": "python3"
  },
  "language_info": {
   "codemirror_mode": {
    "name": "ipython",
    "version": 3
   },
   "file_extension": ".py",
   "mimetype": "text/x-python",
   "name": "python",
   "nbconvert_exporter": "python",
   "pygments_lexer": "ipython3",
   "version": "3.13.1"
  }
 },
 "nbformat": 4,
 "nbformat_minor": 5
}
