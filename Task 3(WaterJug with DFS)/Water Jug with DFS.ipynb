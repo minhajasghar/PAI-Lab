{
 "cells": [
  {
   "cell_type": "code",
   "execution_count": 6,
   "id": "78552f9b-54cf-4d38-a108-f8c015b891fd",
   "metadata": {},
   "outputs": [
    {
     "name": "stdout",
     "output_type": "stream",
     "text": [
      "Solution found\n",
      "Steps to reach the goal:\n",
      "(0, 0)\n",
      "(0, 3)\n",
      "(3, 0)\n",
      "(3, 3)\n",
      "(4, 2)\n"
     ]
    }
   ],
   "source": [
    "def waterJugProblemDFS(c1, c2, goal):\n",
    "    stack = [(0, 0)] \n",
    "    visited = set()\n",
    "    parent = {}\n",
    "    actions = []\n",
    "\n",
    "    visited.add((0, 0))\n",
    "    parent[(0, 0)] = None\n",
    "\n",
    "    while stack:\n",
    "        jug1, jug2 = stack.pop() \n",
    "        actions.append((jug1, jug2))\n",
    "        \n",
    "        if jug1 == goal or jug2 == goal:\n",
    "            print(\"Solution found\")\n",
    "            return reconstruct_path(parent, (jug1, jug2))\n",
    "\n",
    "        rules = [\n",
    "            (c1, jug2), \n",
    "            (jug1, c2), \n",
    "            (0, jug2), \n",
    "            (jug1, 0), \n",
    "            (jug1 - min(jug1, c2 - jug2), jug2 + min(jug1, c2 - jug2)), \n",
    "            (jug1 + min(jug2, c1 - jug1), jug2 - min(jug2, c1 - jug1))  \n",
    "        ]\n",
    "\n",
    "        for rule in rules:\n",
    "            if rule not in visited:\n",
    "                visited.add(rule)\n",
    "                stack.append(rule) \n",
    "                parent[rule] = (jug1, jug2)\n",
    "    \n",
    "    print(\"No solution found\")\n",
    "    return None\n",
    "\n",
    "def reconstruct_path(parent, state):\n",
    "    path = []\n",
    "    while state is not None:\n",
    "        path.append(state)\n",
    "        state = parent[state]\n",
    "    return path[::-1]\n",
    "\n",
    "jug1capacity = 4\n",
    "jug2capacity = 3\n",
    "goal = 2\n",
    "solution = waterJugProblemDFS(jug1capacity, jug2capacity, goal)\n",
    "if solution:\n",
    "    print(\"Steps to reach the goal:\")\n",
    "    for step in solution:\n",
    "        print(step)"
   ]
  }
 ],
 "metadata": {
  "kernelspec": {
   "display_name": "Python 3 (ipykernel)",
   "language": "python",
   "name": "python3"
  },
  "language_info": {
   "codemirror_mode": {
    "name": "ipython",
    "version": 3
   },
   "file_extension": ".py",
   "mimetype": "text/x-python",
   "name": "python",
   "nbconvert_exporter": "python",
   "pygments_lexer": "ipython3",
   "version": "3.13.1"
  }
 },
 "nbformat": 4,
 "nbformat_minor": 5
}
