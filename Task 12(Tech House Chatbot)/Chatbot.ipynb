{
  "nbformat": 4,
  "nbformat_minor": 0,
  "metadata": {
    "colab": {
      "provenance": []
    },
    "kernelspec": {
      "name": "python3",
      "display_name": "Python 3"
    },
    "language_info": {
      "name": "python"
    }
  },
  "cells": [
    {
      "cell_type": "code",
      "execution_count": 3,
      "metadata": {
        "colab": {
          "base_uri": "https://localhost:8080/"
        },
        "id": "Jm5Nk7VbhsJj",
        "outputId": "bb5d9837-357c-48a2-e1a0-d0c94c0f8019"
      },
      "outputs": [
        {
          "output_type": "stream",
          "name": "stdout",
          "text": [
            "Chatbot: Hello! Welcome to Tech House. How can I assist you today? Type 'quit' to exit.\n",
            "You: is any python developer?\n",
            "Chatbot: I'm a python developer.\n",
            "You: quit\n",
            "Chatbot: Goodbye!\n"
          ]
        }
      ],
      "source": [
        "import torch\n",
        "from transformers import AutoModelForCausalLM, AutoTokenizer\n",
        "\n",
        "# Load the pre-trained DialoGPT-medium model and tokenizer\n",
        "tokenizer = AutoTokenizer.from_pretrained(\"microsoft/DialoGPT-medium\")\n",
        "model = AutoModelForCausalLM.from_pretrained(\"microsoft/DialoGPT-medium\")\n",
        "\n",
        "# Software house-related responses\n",
        "software_house_data = {\n",
        "    \"services\": \"We offer a wide range of services including web development, mobile app development, software consulting, and cloud solutions.\",\n",
        "    \"location\": \"Our software house is located at 456 Tech Park, Innovation City.\",\n",
        "    \"hours\": \"Our office is open from 9 AM to 6 PM, Monday to Friday.\",\n",
        "    \"contact\": \"You can reach us at 555-9876 or email us at contact@techhouse.com.\",\n",
        "    \"team\": \"We have a talented team of developers, designers, and project managers with expertise in various technologies like Python, JavaScript, and React.\",\n",
        "    \"portfolio\": \"You can view our portfolio at www.techhouse.com/portfolio, where we showcase some of our successful projects.\",\n",
        "    \"projects\": \"We work on both custom software solutions and ready-made products. Would you like to learn more about a specific project?\",\n",
        "    \"consultation\": \"To schedule a consultation, please call us at 555-9876 or book an appointment through our website.\"\n",
        "}\n",
        "\n",
        "# Function to generate a response from the model\n",
        "def generate_response(user_input):\n",
        "    # Check if the user input contains any keywords related to software house info\n",
        "    user_input_lower = user_input.lower()\n",
        "\n",
        "    # Look for keywords in the user input and respond with relevant software house info\n",
        "    for keyword, response in software_house_data.items():\n",
        "        if keyword in user_input_lower:\n",
        "            return response\n",
        "\n",
        "    # If no keyword is found, proceed with the model-based response\n",
        "    new_user_input_ids = tokenizer.encode(user_input + tokenizer.eos_token, return_tensors='pt')\n",
        "\n",
        "    # If a GPU is available, move the model to the GPU\n",
        "    if torch.cuda.is_available():\n",
        "        new_user_input_ids = new_user_input_ids.to(\"cuda\")\n",
        "        model.to(\"cuda\")\n",
        "\n",
        "    # Generate a response from the model\n",
        "    chat_history_ids = model.generate(new_user_input_ids, max_length=1000, pad_token_id=tokenizer.eos_token_id, no_repeat_ngram_size=3)\n",
        "\n",
        "    # Decode the response\n",
        "    bot_response = tokenizer.decode(chat_history_ids[:, new_user_input_ids.shape[-1]:][0], skip_special_tokens=True)\n",
        "\n",
        "    return bot_response\n",
        "\n",
        "def chatbot():\n",
        "    print(\"Chatbot: Hello! Welcome to Tech House. How can I assist you today? Type 'quit' to exit.\")\n",
        "\n",
        "    # Loop for interacting with the user\n",
        "    while True:\n",
        "        user_input = input(\"You: \")\n",
        "\n",
        "        if user_input.lower() == \"quit\":\n",
        "            print(\"Chatbot: Goodbye!\")\n",
        "            break\n",
        "\n",
        "        response = generate_response(user_input)\n",
        "        print(f\"Chatbot: {response}\")\n",
        "\n",
        "# Start the chatbot\n",
        "if __name__ == \"__main__\":\n",
        "    chatbot()\n"
      ]
    }
  ]
}