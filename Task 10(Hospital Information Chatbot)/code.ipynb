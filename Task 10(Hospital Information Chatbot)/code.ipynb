{
 "cells": [
  {
   "cell_type": "code",
   "execution_count": 1,
   "metadata": {},
   "outputs": [],
   "source": [
    "import nltk\n",
    "from nltk.chat.util import Chat, reflections\n",
    "from nltk.sentiment import SentimentIntensityAnalyzer"
   ]
  },
  {
   "cell_type": "code",
   "execution_count": 2,
   "metadata": {},
   "outputs": [
    {
     "name": "stderr",
     "output_type": "stream",
     "text": [
      "[nltk_data] Downloading package punkt to\n",
      "[nltk_data]     C:\\Users\\user\\AppData\\Roaming\\nltk_data...\n",
      "[nltk_data]   Package punkt is already up-to-date!\n",
      "[nltk_data] Downloading package vader_lexicon to\n",
      "[nltk_data]     C:\\Users\\user\\AppData\\Roaming\\nltk_data...\n",
      "[nltk_data]   Package vader_lexicon is already up-to-date!\n"
     ]
    },
    {
     "data": {
      "text/plain": [
       "True"
      ]
     },
     "execution_count": 2,
     "metadata": {},
     "output_type": "execute_result"
    }
   ],
   "source": [
    "nltk.download('punkt')\n",
    "nltk.download('vader_lexicon')"
   ]
  },
  {
   "cell_type": "code",
   "execution_count": 3,
   "metadata": {},
   "outputs": [],
   "source": [
    "\n",
    "\n",
    "pairs = [\n",
    "    [r\"(?i).*hello.*|.*hi.*|.*hey.*\",\n",
    "     [\"Hello! How can I assist you with hospital services?\",\n",
    "      \"Hi there! How can I help you today?\",\n",
    "      \"Hey! Welcome to [Hospital Name], how can I assist you?\"]],\n",
    "\n",
    "    [r\"(?i).*hospital services.*|.*available services.*|.*facilities offered.*\",\n",
    "     [\"We offer a wide range of services, including emergency care, inpatient services, outpatient services, surgery, and specialized treatments.\",\n",
    "      \"Our hospital provides comprehensive healthcare services such as cardiology, orthopedics, and pediatrics.\",\n",
    "      \"We provide services like diagnostics, surgical care, rehabilitation, and wellness programs.\"]],\n",
    "\n",
    "    [r\"(?i).*admission procedure.*|.*how to admit.*|.*admission process.*\",\n",
    "     [\"You can admit a patient by visiting our admission desk or using our online portal for registration.\",\n",
    "      \"The admission process involves filling out an online form, providing necessary documents, and undergoing a brief consultation with a doctor.\",\n",
    "      \"To admit a patient, visit the hospital's front desk or call our hotline to guide you through the admission process.\"]],\n",
    "\n",
    "    [r\"(?i).*doctors.*|.*specialists.*|.*available doctors.*\",\n",
    "     [\"Our hospital has a team of specialized doctors in various fields such as cardiology, dermatology, and gastroenterology.\",\n",
    "      \"We have a network of experienced doctors, including specialists in neurology, orthopedics, and pediatrics.\",\n",
    "      \"Our healthcare professionals are available for consultations, diagnosis, and treatment in various medical fields.\"]],\n",
    "\n",
    "    [r\"(?i).*emergency.*|.*emergency services.*|.*emergency department.*\",\n",
    "     [\"Our emergency department is open 24/7 to handle all urgent medical needs.\",\n",
    "      \"We have a fully equipped emergency department for immediate medical attention.\",\n",
    "      \"In case of an emergency, please visit our ER, available around the clock for critical care.\"]],\n",
    "\n",
    "    [r\"(?i).*fees.*|.*cost of treatment.*|.*hospital charges.*\",\n",
    "     [\"Hospital fees vary depending on the type of treatment or procedure. You can get a detailed breakdown from our billing department.\",\n",
    "      \"Our hospital charges depend on the service provided. Please check with the finance office for the exact fees.\",\n",
    "      \"For accurate fee details, please visit our billing department or our website.\"]],\n",
    "\n",
    "    [r\"(?i).*insurance.*|.*health insurance.*|.*insurance coverage.*\",\n",
    "     [\"We accept most major health insurance providers. Please check with the billing department for coverage details.\",\n",
    "      \"Our hospital works with various insurance companies. You can consult with our team to check if your insurance covers the treatment.\",\n",
    "      \"We accept a range of insurance plans. For more details, contact the billing department or your insurance provider.\"]],\n",
    "\n",
    "    [r\"(?i).*hospital location.*|.*where is the hospital.*|.*hospital address.*\",\n",
    "     [\"Our hospital is located at [Hospital Address]. You can find directions on our website or contact our reception for help.\",\n",
    "      \"You can find our hospital at [Hospital Address]. Visit our website for a map or call us for directions.\",\n",
    "      \"The hospital is located at [Hospital Address]. For more information, check our website or call our front desk.\"]],\n",
    "\n",
    "    [r\"(?i).*visiting hours.*|.*hospital visiting hours.*|.*when can I visit patients.*\",\n",
    "     [\"Our visiting hours are from [Visiting Hours]. Please follow our hospital's visitor guidelines.\",\n",
    "      \"Visiting hours are typically from [Visiting Hours]. Please check with the patient’s ward for any specific visiting hours.\",\n",
    "      \"The hospital allows visitors during [Visiting Hours]. Ensure you adhere to our visiting policies for a smooth experience.\"]],\n",
    "\n",
    "    [r\"(?i).*pharmacy.*|.*medications.*|.*pharmacy services.*\",\n",
    "     [\"Our hospital has an on-site pharmacy for your convenience, providing prescribed medications and over-the-counter drugs.\",\n",
    "      \"You can visit our pharmacy to purchase prescribed medications, medical supplies, and other health-related products.\",\n",
    "      \"Our pharmacy is available to provide the necessary medications prescribed by our doctors.\"]],\n",
    "\n",
    "    [r\"(?i).*tests.*|.*medical tests.*|.*lab services.*\",\n",
    "     [\"We offer a wide range of diagnostic tests such as blood work, imaging, and pathology exams.\",\n",
    "      \"Our lab services include blood tests, X-rays, MRIs, and other diagnostic services.\",\n",
    "      \"For medical tests, you can visit our lab or consult your doctor for recommendations on required tests.\"]],\n",
    "\n",
    "    [r\"(?i).*contact.*|.*hospital contact.*|.*how to reach the hospital.*\",\n",
    "     [\"You can contact us at [Hospital Contact Number] or email us at [Email Address].\",\n",
    "      \"For inquiries, please call us at [Hospital Contact Number] or email [Email Address].\",\n",
    "      \"Feel free to reach us at [Hospital Contact Number] for any queries. Our staff is available to assist you.\"]],\n",
    "\n",
    "    [r\"(?i).*bye.*|.*goodbye.*|.*see you later.*\",\n",
    "     [\"Goodbye! Feel free to contact us anytime.\",\n",
    "      \"See you later! Wishing you the best of health.\",\n",
    "      \"Take care! Let us know if you have more questions.\"]]\n",
    "]\n",
    "\n",
    "chatbot = Chat(pairs)\n",
    "sia = SentimentIntensityAnalyzer()\n"
   ]
  },
  {
   "cell_type": "code",
   "execution_count": 4,
   "metadata": {},
   "outputs": [],
   "source": [
    "def analyze_sentiment(text):\n",
    "  sentiment_score = sia.polarity_scores(text)\n",
    "  if sentiment_score['compound'] >= 0.05:\n",
    "    return \"Positive Sentence\"\n",
    "  elif sentiment_score['compound'] <= -0.05:\n",
    "    return \"Negative Sentence\"\n",
    "  else:\n",
    "    return \"Neutral Sentence\""
   ]
  },
  {
   "cell_type": "code",
   "execution_count": 5,
   "metadata": {},
   "outputs": [],
   "source": [
    "def chatbot_app():\n",
    "  print(\" -- Welcome to Minhaj Hospital Chatbot -- \")\n",
    "  print(\" -- Type 'Brother Minhaj\")\n",
    "  print(\" -- Type 'Exit' to exit\")\n",
    "\n",
    "  while True:\n",
    "    user_input = input(\"You: \")\n",
    "\n",
    "    if user_input.lower() == \"exit\":\n",
    "      print(\"ChatBot: Goodbye!\")\n",
    "      break\n",
    "    elif user_input.lower() == \"sentiment\":\n",
    "      print(\"ChatBot: Tell me a sentence to Analyze.\")\n",
    "      sentiment_input = input(\"You: \")\n",
    "      print(\"ChatBot: Sentiment Analysis Report -\", analyze_sentiment(sentiment_input))\n",
    "    else:\n",
    "      response = chatbot.respond(user_input.lower())\n",
    "      if response:\n",
    "        print(\"ChatBot:\", response)\n",
    "        if \"bye\" in user_input.lower():\n",
    "          break\n",
    "      else:\n",
    "        print(\"ChatBot: I'm not sure how to respond to that.\")"
   ]
  },
  {
   "cell_type": "code",
   "execution_count": 6,
   "metadata": {},
   "outputs": [
    {
     "name": "stdout",
     "output_type": "stream",
     "text": [
      " -- Welcome to Minhaj Hospital Chatbot -- \n",
      " -- Type 'Brother Minhaj\n",
      " -- Type 'Exit' to exit\n",
      "ChatBot: I'm not sure how to respond to that.\n",
      "ChatBot: I'm not sure how to respond to that.\n"
     ]
    },
    {
     "ename": "",
     "evalue": "",
     "output_type": "error",
     "traceback": [
      "\u001b[1;31mThe Kernel crashed while executing code in the current cell or a previous cell. \n",
      "\u001b[1;31mPlease review the code in the cell(s) to identify a possible cause of the failure. \n",
      "\u001b[1;31mClick <a href='https://aka.ms/vscodeJupyterKernelCrash'>here</a> for more info. \n",
      "\u001b[1;31mView Jupyter <a href='command:jupyter.viewOutput'>log</a> for further details."
     ]
    }
   ],
   "source": [
    "chatbot_app()"
   ]
  },
  {
   "cell_type": "code",
   "execution_count": null,
   "metadata": {},
   "outputs": [],
   "source": []
  }
 ],
 "metadata": {
  "kernelspec": {
   "display_name": "Python 3",
   "language": "python",
   "name": "python3"
  },
  "language_info": {
   "codemirror_mode": {
    "name": "ipython",
    "version": 3
   },
   "file_extension": ".py",
   "mimetype": "text/x-python",
   "name": "python",
   "nbconvert_exporter": "python",
   "pygments_lexer": "ipython3",
   "version": "3.12.3"
  }
 },
 "nbformat": 4,
 "nbformat_minor": 2
}
